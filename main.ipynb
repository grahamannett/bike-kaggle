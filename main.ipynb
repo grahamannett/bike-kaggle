{
 "metadata": {
  "name": "",
  "signature": "sha256:d4153c5872f5148ce5c78aa31698a8d1bba8924eeeb0900bfdcd74c8f08cbf9c"
 },
 "nbformat": 3,
 "nbformat_minor": 0,
 "worksheets": [
  {
   "cells": [
    {
     "cell_type": "markdown",
     "metadata": {},
     "source": [
      "##Required Libraries\n",
      "* pandas\n",
      "* numpy\n",
      "* matplotlib \n",
      "* scikit-learn\n",
      "* statsmodels"
     ]
    },
    {
     "cell_type": "code",
     "collapsed": false,
     "input": [
      "import pandas as pd\n",
      "from pandas.tools.plotting import scatter_matrix\n",
      "import numpy as np\n",
      "import matplotlib.pyplot as plt\n",
      "from sklearn.ensemble import RandomForestRegressor, GradientBoostingRegressor\n",
      "from sklearn import svm\n",
      "from sklearn.linear_model import BayesianRidge, LinearRegression\n",
      "import statsmodels.formula.api as smf\n",
      "%matplotlib inline"
     ],
     "language": "python",
     "metadata": {},
     "outputs": [],
     "prompt_number": 31
    },
    {
     "cell_type": "markdown",
     "metadata": {},
     "source": [
      "###Functions that split datetime into date and time and creates submission file"
     ]
    },
    {
     "cell_type": "code",
     "collapsed": false,
     "input": [
      "#remove warning\n",
      "# pd.options.mode.chained_assignment = None \n",
      "\n",
      "# clearn data and create submission\n",
      "\n",
      "def nicedata(df):\n",
      "    \n",
      "    #split datetime into 2 columns\n",
      "    time = [item.split(' ')[1] for item in df['datetime']]\n",
      "    date = pd.Series([item.split(' ')[0] for item in df['datetime']])\n",
      "    #rename columns\n",
      "    df['datetime'].update(date)\n",
      "    df['time'] = time\n",
      "    df.rename(columns={'datetime':'date'},inplace=True)\n",
      "    #reorganize columns\n",
      "    col = df.columns.tolist()\n",
      "    col = col[-1:]+col[:-1]\n",
      "    col[0], col[1] = col[1], col[0]\n",
      "    df = df[col]\n",
      "    #remove :00:00 on every time\n",
      "    df['time']=df['time'].str.replace(':00:00','')\n",
      "    return df\n",
      "\n",
      "def submitdata(pred,test2,name='submission'):\n",
      "\n",
      "    #extract name from original 'datetime' feature\n",
      "    keep = pd.read_csv('data/test.csv')\n",
      "    keep = keep['datetime']\n",
      "    \n",
      "    #save to file\n",
      "    submit = pd.concat([keep,pred],axis=1)\n",
      "    submit.columns=['datetime','count']\n",
      "    submit.to_csv('data/'+name+'.csv',index=False)\n",
      "    \n"
     ],
     "language": "python",
     "metadata": {},
     "outputs": [],
     "prompt_number": 32
    },
    {
     "cell_type": "markdown",
     "metadata": {},
     "source": [
      "##Plot Data\n",
      "Here we will plot the data for 4 days.  Days are _NOT_ always 24 hours, sometimes data is missing."
     ]
    },
    {
     "cell_type": "code",
     "collapsed": false,
     "input": [
      "data = pd.read_csv('data/train.csv')\n",
      "test = pd.read_csv('data/test.csv')\n",
      "data = nicedata(data)\n",
      "test2 = nicedata(test)\n",
      "print(test.shape)\n",
      "#print(test.head(3))\n",
      "x=0\n",
      "day_1 = data[0:24]\n",
      "day_2 = data[24:47]\n",
      "day_3 = data[47:69]\n",
      "day_4 = data[69:92]\n",
      "# print(day_4)\n",
      "plt.rc('lines', linewidth=3.0)\n",
      "plt.subplot(2,2,1)\n",
      "plt.plot(day_1.time,day_1['count'])\n",
      "plt.subplot(2,2,2)\n",
      "plt.plot(day_2.time,day_2['count'])\n",
      "plt.subplot(2,2,3)\n",
      "plt.plot(day_3.time,day_3['count'])\n",
      "plt.subplot(2,2,4)\n",
      "plt.plot(day_4.time,day_4['count'])"
     ],
     "language": "python",
     "metadata": {},
     "outputs": [
      {
       "output_type": "stream",
       "stream": "stdout",
       "text": [
        "(6493, 10)\n"
       ]
      },
      {
       "metadata": {},
       "output_type": "pyout",
       "prompt_number": 101,
       "text": [
        "[<matplotlib.lines.Line2D at 0x11cbb3b50>]"
       ]
      },
      {
       "metadata": {},
       "output_type": "display_data",
       "png": "[encoded data removed]",
       "text": [
        "<matplotlib.figure.Figure at 0x11c287a10>"
       ]
      }
     ],
     "prompt_number": 101
    },
    {
     "cell_type": "markdown",
     "metadata": {},
     "source": []
    },
    {
     "cell_type": "code",
     "collapsed": false,
     "input": [
      "#plottign below\n",
      "toplot = data[['time','count']]\n",
      "timeplot = pd.Series(list(toplot['time']))\n",
      "countplot= pd.Series(list(toplot['count']))\n",
      "\n",
      "# print(toplot.shape)\n",
      "# toplot= (toplot.groupby('time',sort=True).sum())/270\n",
      "# toplot = toplot.grouby(toplot.pd.tseries.index.hour)\n",
      "# print(toplot.head(30))\n",
      "# plt.figure()\n",
      "# plt.plot(toplot)\n",
      "# pd.tools.plotting.scatter_matrix(data)\n",
      "# plt.show()"
     ],
     "language": "python",
     "metadata": {},
     "outputs": []
    },
    {
     "cell_type": "code",
     "collapsed": false,
     "input": [
      "def rforest(df, test, est=5):\n",
      "    forest = RandomForestRegressor(n_estimators=est)\n",
      "    #set target, train and test. train and test must have same number of features\n",
      "    target = df['count'].values\n",
      "    train  = df[['holiday','season','temp','atemp','windspeed','weather','humidity']].values\n",
      "    test   = test2[['holiday','season','temp','atemp','windspeed','weather','humidity']].values\n",
      "    forest.fit(train,target)\n",
      "\n",
      "\n",
      "    predicted_probs = forest.predict(test)\n",
      "    predicted_probs = pd.Series(predicted_probs)\n",
      "    predicted_probs = predicted_probs.map(lambda x: int(x))\n",
      "\n",
      "    keep = pd.read_csv('data/test.csv')\n",
      "    t = keep[keep['time']=='01']\n",
      "    t = t['datetime']\n",
      "    \n",
      "    #save to file\n",
      "    submit = pd.concat([t,predicted_probs],axis=1)\n",
      "    print(forest.feature_importances_)\n",
      "    submit.columns=['datetime','count']\n",
      "    submit.to_csv('data/submission.csv',index=False)\n",
      "\n",
      "# rforest(data, test2 ,1000)\n",
      "\n",
      "def regfit(df,test):\n",
      "    y = df['count']\n",
      "    X  = df[['time','season','temp']]\n",
      "    results = smf.ols('count ~ season +holiday + time+temp +atemp + windspeed', data=df).fit()\n",
      "    print results.summary()\n",
      "    test   = test2[['time','season','temp','windspeed','atemp','holiday']]\n",
      "\n",
      "\n",
      "    #predict\n",
      "    predicted_probs = results.predict(test)\n",
      "    #save to file\n",
      "    keep = pd.read_csv('data/test.csv')\n",
      "    keep = keep['datetime']\n",
      "    predicted_probs = pd.Series(predicted_probs)\n",
      "    submit = pd.concat([keep,predicted_probs],axis=1)\n",
      "    submit.columns=['datetime','count']\n",
      "    predicted_probs.to_csv('data/submissionrlm.csv',index=False)\n",
      "\n",
      "# regfit(data,test2)\n",
      "\n",
      "#ridge regression\n",
      "\n",
      "def ridreg(df,test):\n",
      "    clf = BayesianRidge()\n",
      "    \n",
      "    target = df['count']\n",
      "    train  = df[['time','temp']]\n",
      "    test   = test2[['time','temp']]\n",
      "\n",
      "    clf.fit(train,target)\n",
      "    final = []\n",
      "    print(test.head(3))\n",
      "    for i, row in enumerate(test.values):\n",
      "        y=[]\n",
      "        for x in row:\n",
      "            x= float(x)\n",
      "            y.append(x)\n",
      "            # print(x)\n",
      "            final.append(y)\n",
      "    predicted_probs= clf.predict(final)\n",
      "    # print(predicted_probs.shape)\n",
      "    # predicted_probs = pd.Series(predicted_probs)\n",
      "    # predicted_probs = predicted_probs.map(lambda x: int(x))\n",
      "\n",
      "    keep = pd.read_csv('data/test.csv')\n",
      "    keep = keep['datetime']\n",
      "    # #save to file\n",
      "    predicted_probs= pd.DataFrame(predicted_probs)\n",
      "    print(predicted_probs.head(3))\n",
      "    predicted_probs.to_csv('data/submission3.csv',index=False)\n",
      "\n",
      "\n",
      "# ridreg(data,test2)\n",
      "\n",
      "def suppvecreg(df,test2):\n",
      "    target = df['count']\n",
      "    train  = df[['time','temp','humidity']]\n",
      "    test   = test2[['time','temp','humidity']]\n",
      "\n",
      "    clf2 = svm.SVR(degree=5,probability=True)\n",
      "    clf2.fit(train,target)\n",
      "    # \n",
      "    p123= clf2.predict(test)\n",
      "    p123.to_csv('data/submission4.csv',index=False)\n",
      "\n",
      "\n",
      "# suppvecreg(data,test2)\n",
      "\n",
      "def gradb(df, test):\n",
      "    return 5\n"
     ],
     "language": "python",
     "metadata": {},
     "outputs": []
    },
    {
     "cell_type": "code",
     "collapsed": false,
     "input": [
      "q = data[data['time']=='01']\n",
      "p = test[test['time']=='01']"
     ],
     "language": "python",
     "metadata": {},
     "outputs": [],
     "prompt_number": 22
    },
    {
     "cell_type": "code",
     "collapsed": false,
     "input": [],
     "language": "python",
     "metadata": {},
     "outputs": []
    }
   ],
   "metadata": {}
  }
 ]
}