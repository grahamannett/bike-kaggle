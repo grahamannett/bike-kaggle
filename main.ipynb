{
 "metadata": {
  "name": "",
  "signature": "sha256:bc986529226469cf391ff5e4a2d24e7dcfee01ebdec49e994289369fac101ded"
 },
 "nbformat": 3,
 "nbformat_minor": 0,
 "worksheets": [
  {
   "cells": [
    {
     "cell_type": "markdown",
     "metadata": {},
     "source": [
      "##Required Libraries\n",
      "* pandas\n",
      "* numpy\n",
      "* matplotlib \n",
      "* scikit-learn\n",
      "* statsmodels\n",
      "\n",
      "note: at one point i used  all of these but over time got rid of ones that were unhelpful"
     ]
    },
    {
     "cell_type": "code",
     "collapsed": false,
     "input": [
      "import pandas as pd\n",
      "from pandas.tools.plotting import scatter_matrix\n",
      "import numpy as np\n",
      "import matplotlib.pyplot as plt\n",
      "from sklearn.ensemble import RandomForestRegressor, GradientBoostingRegressor, AdaBoostRegressor\n",
      "from sklearn.svm import SVR\n",
      "from sklearn.linear_model import ElasticNet\n",
      "from sklearn.cross_validation import cross_val_score\n",
      "# import statsmodels.formula.api as smf\n",
      "import time\n",
      "from itertools import chain\n",
      "%matplotlib inline"
     ],
     "language": "python",
     "metadata": {},
     "outputs": [],
     "prompt_number": 8
    },
    {
     "cell_type": "markdown",
     "metadata": {},
     "source": [
      "###Functions that split datetime into date and time and creates submission file"
     ]
    },
    {
     "cell_type": "markdown",
     "metadata": {},
     "source": [
      "the complete breakdown of what I plan on doing for my own clarity\n",
      "1. preprocessing of data\n",
      " - convert data to \"clean\" form\n",
      " - datetime into year month day hour and convert to int\n",
      "2. plot a day to get general idea\n",
      " - plot 2 working days and 2 \n",
      "3. run algorithm\n",
      " - random forest\n",
      " - AdaBoost\n",
      " - something else\n",
      "4. plot algorithm prediction\n",
      " - compared to nearby date \n",
      "4. create submission file\n",
      " - strip original datetime since its in submittable format\n",
      " - so long as rows remain with dataframe row index this shouldnt be a problem"
     ]
    },
    {
     "cell_type": "code",
     "collapsed": false,
     "input": [
      "# here i have created 2 functions to deal with data and to create submissions.  \n",
      "# nicedata() is a bit sloppy with names of col and getting them in the order i wanted\n",
      "def nicedata(data):\n",
      "    '''\n",
      "    change data into good format. use for both train and test\n",
      "    '''\n",
      "    yearmonthday,time = zip(*[item.split(' ') for item in data['datetime']])\n",
      "    year, month, day = zip(*[item.split('-') for item in yearmonthday])\n",
      "    data2 = data\n",
      "    data2 = data.drop('datetime',1)\n",
      "    #split datatime into year month day and time.  \n",
      "    data2['year'] = year\n",
      "    data2['month']= month\n",
      "    # data2['month']=month\n",
      "    data2['day']=day\n",
      "    data2['time']=time\n",
      "    col = data2.columns.tolist()\n",
      "    #change columns\n",
      "    for x in xrange(4):\n",
      "        col = col[-1:]+col[:-1]\n",
      "    # col[0], col[1] = col[1], col[0]\n",
      "    data2 = data2[col]\n",
      "    #remove 00:00 and change all to int from float\n",
      "    data2['time']=data2['time'].str.replace(':00:00','').astype(int)\n",
      "    data2[['year','month','day']]=data2[['year','month','day']].astype(int)\n",
      "    \n",
      "    return data2\n",
      "    \n",
      "# data = pd.read_csv('data/train.csv')\n",
      "# data = nicedata(data)\n",
      "    \n",
      "def submitdata(pred,name='submission'):\n",
      "    '''\n",
      "    use with predictions in this function as it uses time in string as well\n",
      "    pulls datetime from original file rather than recombine year month day time\n",
      "    '''\n",
      "\n",
      "    #extract name from original 'datetime' feature\n",
      "    keep = pd.read_csv('data/test.csv')\n",
      "    keep = keep['datetime']\n",
      "    \n",
      "    #save to file\n",
      "    submit = pd.concat([keep,pred],axis=1)\n",
      "    submit.columns=['datetime','count']\n",
      "    submit['count']=submit['count'].astype(int)\n",
      "#     submit.ix[submit['count'] <= 0, :] = 1\n",
      "    \n",
      "    timestr = time.strftime(\"%m-%d\")\n",
      "    submit.to_csv('data/'+name+timestr+'.csv',index=False)\n",
      "    \n",
      "\n",
      "def normalizedata(data):\n",
      "    '''\n",
      "    use if you wish to normalize any of the features from [0,1]\n",
      "    '''\n",
      "    features_to_norm = ['temp','atemp','humidity','windspeed']\n",
      "    for x in features_to_norm:\n",
      "        #normalized between 0 and 1 but can later change\n",
      "        temporary = (data[x] - min(data[x]))/(max(data[x])- min(data[x]))\n",
      "        data[x]=temporary  \n",
      "    return data\n",
      "#this removes warning that will otherwise come about\n",
      "pd.options.mode.chained_assignment = None"
     ],
     "language": "python",
     "metadata": {},
     "outputs": [],
     "prompt_number": 2
    },
    {
     "cell_type": "markdown",
     "metadata": {},
     "source": [
      "##Plot Data\n",
      "Here we will plot the data for 2 days, 1 working and 1 nonworking.  Days are _NOT_ always 24 hours, sometimes data is missing.  On the last day we will average over the month just to show that there is some similarity (i.e. the first few days are not so different from the days overall)."
     ]
    },
    {
     "cell_type": "code",
     "collapsed": false,
     "input": [
      "data = pd.read_csv('data/train.csv')\n",
      "test = pd.read_csv('data/test.csv')\n",
      "data = nicedata(data)\n",
      "test2 = nicedata(test)\n",
      "\n",
      "day_1 = data[0:24]\n",
      "day_2 = data[24:47]\n",
      "day_3 = data[47:69]\n",
      "day_4 = data[69:92]\n",
      "\n",
      "#re add (ax2, ax3) to below command and uncomment out below to make 4 graphs\n",
      "f, (ax1, ax4) = plt.subplots(2, sharex=True, sharey=True)\n",
      "ax1.plot(day_1.time,day_1['count'])\n",
      "ax1.set_title('2 Weekends, 2 Working days')\n",
      "# ax2.plot(day_2.time,day_2['count'])\n",
      "# ax3.plot(day_3.time,day_3['count'])\n",
      "ax4.plot(day_4.time,day_4['count'])\n",
      "f.subplots_adjust(hspace=0)\n",
      "f.set_size_inches(12,7)\n",
      "\n",
      "jan2011 = data[(data['month']==1) & (data['year']==2011) & data['workingday']==True]\n",
      "grouped = jan2011.groupby('time')\n",
      "grouped = grouped.agg(np.mean)\n",
      "plt.plot(grouped['count'],c='r')\n",
      "# plt.figure()\n",
      "# below plot if necessary\n",
      "# plt.plot(data['time'],data['count'].values)"
     ],
     "language": "python",
     "metadata": {},
     "outputs": [
      {
       "metadata": {},
       "output_type": "pyout",
       "prompt_number": 48,
       "text": [
        "[<matplotlib.lines.Line2D at 0x10c693bd0>]"
       ]
      },
      {
       "metadata": {},
       "output_type": "display_data",
       "png": "[encoded data removed]",
       "text": [
        "<matplotlib.figure.Figure at 0x10c68f790>"
       ]
      }
     ],
     "prompt_number": 48
    },
    {
     "cell_type": "markdown",
     "metadata": {},
     "source": [
      "As you can see, for working days (the second 2) there is a clear spike during morning and afternoon rushes."
     ]
    },
    {
     "cell_type": "markdown",
     "metadata": {},
     "source": [
      "Using two different models, SVR and RandomForestRegressor, then comparing cross validation scores.  Note that you cannot use data from future data (i.e. you cant use data from Feb of 2011 for Jan 2011 dates) so I just iterated over each month in each year and created a seperate model for each.  An intersting idea would be to use all previous months to create a model for each month but it did not work for me as expected."
     ]
    },
    {
     "cell_type": "code",
     "collapsed": false,
     "input": [
      "test = pd.read_csv('data/test.csv')\n",
      "data = pd.read_csv('data/train.csv')\n",
      "data = nicedata(data)\n",
      "test= nicedata(test)\n",
      "\n",
      "test = normalizedata(test)\n",
      "data = normalizedata(data)\n",
      "\n",
      "\n",
      "years = [2011,2012]\n",
      "months = list(xrange(1,13,1))\n",
      "hours =  list(xrange(0,24,1))\n",
      "pred_months_years = []\n",
      "pd.DataFrame(pred_months_years)\n",
      "for y in [2011,2012]:\n",
      "    for m in range(1,13,1):\n",
      "#         print(y,m)\n",
      "        monthSVR = SVR(kernel='rbf', C=1e3, gamma=1)\n",
      "        muse = data[(data['month']==m) & (data['year']==y)]\n",
      "        tuse = test[(test['month']==m) & (test['year']==y)]\n",
      "        monthSVR.fit(muse[['time','workingday','atemp','humidity','windspeed','weather']],muse['count'])\n",
      "        predmonthSVR = monthSVR.predict(tuse[['time','workingday','atemp','humidity','windspeed','weather']])\n",
      "        pd.DataFrame(predmonthSVR)\n",
      "        pred_months_years.append(predmonthSVR)\n",
      "\n",
      "z = pred_months_years\n",
      "merged = list(chain(*z))\n",
      "z = pd.Series(merged)\n",
      "z.astype(int);\n",
      "z.name = \"count\"\n",
      "predictionsSVR = pd.DataFrame(z)\n",
      "predictionsSVR.ix[predictionsSVR['count'] <= 1, :] = 1\n",
      "# submitdata(subsub,name='SVRrbf')"
     ],
     "language": "python",
     "metadata": {},
     "outputs": [],
     "prompt_number": 96
    },
    {
     "cell_type": "markdown",
     "metadata": {},
     "source": [
      "compared to random forest"
     ]
    },
    {
     "cell_type": "code",
     "collapsed": false,
     "input": [
      "test = pd.read_csv('data/test.csv')\n",
      "data = pd.read_csv('data/train.csv')\n",
      "data = nicedata(data)\n",
      "test= nicedata(test)\n",
      "\n",
      "test = normalizedata(test)\n",
      "data = normalizedata(data)\n",
      "\n",
      "pred_months_years = []\n",
      "pd.DataFrame(pred_months_years)\n",
      "# final = []\n",
      "# pd.Series(final)\n",
      "for y in [2011,2012]:\n",
      "    for m in range(1,13,1):\n",
      "#         print(y,m)\n",
      "        monthforest = RandomForestRegressor(n_estimators=250)\n",
      "        muse = data[(data['month']==m) & (data['year']==y)]\n",
      "        tuse = test[(test['month']==m) & (test['year']==y)]\n",
      "        monthforest.fit(muse[['time','workingday','atemp','humidity','windspeed','weather']],muse['count'])\n",
      "        predmonth = monthforest.predict(tuse[['time','workingday','atemp','humidity','windspeed','weather']])\n",
      "        pd.DataFrame(predmonth)\n",
      "        pred_months_years.append(predmonth)\n",
      "\n",
      "z = pred_months_years\n",
      "merged = list(chain(*z))\n",
      "predictionsRF = pd.Series(merged)\n",
      "predictionsRF.astype(int)\n",
      "submitdata(predictionsRF,name='timeinforest')"
     ],
     "language": "python",
     "metadata": {},
     "outputs": [],
     "prompt_number": 58
    },
    {
     "cell_type": "markdown",
     "metadata": {},
     "source": [
      "Here we will plot the random forest predictions and the svm predictions and compare it to a day near it.  i would like to make it so it finds a random day from the predictions and then compares with nearest day from train in the future."
     ]
    },
    {
     "cell_type": "code",
     "collapsed": false,
     "input": [
      "fig = plt.figure()\n",
      "fig.set_size_inches(10,7)\n",
      "rf1 = plt.subplot2grid((3, 4), (0, 0), colspan=2)\n",
      "svr2 = plt.subplot2grid((3, 4), (0, 2), colspan=2)\n",
      "ax3 = plt.subplot2grid((3, 4), (1, 0), colspan=4, rowspan=1)\n",
      "\n",
      "rf1.plot(test.time[0:24],predictionsRF[0:24])\n",
      "svr2.plot(test.time[0:24],predictionsSVR[0:24])# example_plot(ax3)\n",
      "ax3.plot(day_19.time,day_19['count'])\n",
      "\n",
      "ax3.set_xlabel('Time')\n",
      "ax3.set_ylabel('Count')\n",
      "\n",
      "ax3.set_title('Day 19'),rf1.set_title('Day 20 Random Forest'),svr2.set_title('Day 20 SVR')\n",
      "\n",
      "\n",
      "\n",
      "plt.tight_layout()"
     ],
     "language": "python",
     "metadata": {},
     "outputs": [
      {
       "metadata": {},
       "output_type": "display_data",
       "png": "[encoded data removed]",
       "text": [
        "<matplotlib.figure.Figure at 0x115442410>"
       ]
      }
     ],
     "prompt_number": 99
    },
    {
     "cell_type": "markdown",
     "metadata": {},
     "source": []
    },
    {
     "cell_type": "markdown",
     "metadata": {},
     "source": [
      "cross validation:"
     ]
    },
    {
     "cell_type": "code",
     "collapsed": false,
     "input": [
      "scoreMF = cross_val_score(monthforest, muse[['time','workingday','atemp','humidity','windspeed','weather']],\n",
      "                         muse['count'], cv=5)\n",
      "scoreSVR = cross_val_score(monthSVR, muse[['time','workingday','atemp','humidity','windspeed','weather']],\n",
      "                         muse['count'], cv=5)\n",
      "\n",
      "print(\"Accuracy of Random Forest Regressor: %0.2f (+/- %0.2f)\" % (scoreMF.mean(), scoreMF.std() * 2))\n",
      "print(\"Accuracy of SVR: %0.2f (+/- %0.2f)\" % (scoreSVR.mean(), scoreSVR.std() * 2))"
     ],
     "language": "python",
     "metadata": {},
     "outputs": [
      {
       "output_type": "stream",
       "stream": "stdout",
       "text": [
        "Accuracy of Random Forest Regressor: 0.87 (+/- 0.09)\n",
        "Accuracy of SVR: 0.81 (+/- 0.10)\n"
       ]
      }
     ],
     "prompt_number": 95
    },
    {
     "cell_type": "code",
     "collapsed": false,
     "input": [
      "# from sklearn import tree\n",
      "# dt = tree.ExtraTreeRegressor()\n",
      "# #set target, train and test. train and test must have same number of features\n",
      "# df = data\n",
      "# target = df['count']\n",
      "# train  = df[['time','holiday','season','temp','atemp','windspeed','weather','humidity']]\n",
      "# test   = test2[['time','holiday','season','temp','atemp','windspeed','weather','humidity']]\n",
      "# dt.fit(train,target)\n",
      "\n",
      "\n",
      "# predicted_probs = dt.predict(test)\n",
      "# predicted_probs = pd.Series(predicted_probs)\n",
      "# predicted_probs = predicted_probs.map(lambda x: int(x))\n",
      "\n",
      "# keep = pd.read_csv('data/test.csv')\n",
      "# keep = keep['datetime']\n",
      "# #save to file\n",
      "# submit = pd.concat([keep,predicted_probs],axis=1)\n",
      "# # print(forest.feature_importances_)\n",
      "# submit.columns=['datetime','count']\n",
      "# submit.to_csv('data/submissiondtree.csv',index=False)\n",
      "\n",
      "# plt.figure()\n",
      "# # pl.scatter(tr, y, c=\"k\", label=\"data\")\n",
      "# plt.plot(train['time'], target, c=\"g\", label=\"train\", linewidth=2)\n",
      "# # plt.plot(test['time'], predicted_probs, c=\"r\", label=\"test\", linewidth=2)\n",
      "# plt.xlabel(\"data\")\n",
      "# plt.ylabel(\"target\")\n",
      "# plt.title(\"Decision Tree Regression\")\n",
      "# plt.legend()\n",
      "# plt.show()\n",
      "\n",
      "#removed plot for SVM\n",
      "\n",
      "# day_19 = data[(data['month']==1) & (data['year']==2011) & (data['day']==19)]\n",
      "# f, (ax1, ax2) = plt.subplots(2, sharex=True, sharey=True)\n",
      "# ax1.plot(day_19.time,day_19['count'])\n",
      "# # ax1.set_title('2 Weekends, 2 Working days')\n",
      "# ax2.plot(test.time[0:24],subsub[0:24])\n",
      "# # ax3.plot(day_3.time,day_3['count'])\n",
      "# # ax4.plot(day_4.time,day_4['count'])\n",
      "# f.subplots_adjust(hspace=0)\n",
      "# f.set_size_inches(10,7)\n",
      "\n",
      "\n",
      "\n",
      "#removed plot for random forest\n",
      "\n",
      "# day_19rf = data[(data['month']==1) & (data['year']==2011) & (data['day']==19)]\n",
      "# f, (ax1, ax2) = plt.subplots(2, sharex=True, sharey=True)\n",
      "# ax1.plot(day_19.time,day_19['count'])\n",
      "# # ax1.set_title('2 Weekends, 2 Working days')\n",
      "# ax2.plot(test.time[0:24],z[0:24])\n",
      "# # ax3.plot(day_3.time,day_3['count'])\n",
      "# # ax4.plot(day_4.time,day_4['count'])\n",
      "# f.subplots_adjust(hspace=0)\n",
      "# f.set_size_inches(10,7)\n",
      "# submitdata(z,name='timeinforest')"
     ],
     "language": "python",
     "metadata": {},
     "outputs": [],
     "prompt_number": 94
    }
   ],
   "metadata": {}
  }
 ]
}